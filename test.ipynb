{
 "cells": [
  {
   "cell_type": "code",
   "execution_count": 3,
   "metadata": {},
   "outputs": [
    {
     "name": "stdout",
     "output_type": "stream",
     "text": [
      "(768, 512)\n"
     ]
    }
   ],
   "source": [
    "from torch.utils.data import Dataset\n",
    "from PIL import Image\n",
    "import cv2\n",
    "\n",
    "img_path = \"E:\\S\\code\\CodeTest\\Mound-Pytorch\\hymenoptera_data\\\\train\\\\ants\\\\0013035.jpg\"\n",
    "img = Image.open(img_path)\n",
    "print(img.size)\n",
    "# 展示图片\n",
    "# img.show\n",
    "dir_path = \"./hymenoptera_data/train/ants\"\n",
    "import os\n",
    "img_path_list = os.listdir(dir_path)"
   ]
  }
 ],
 "metadata": {
  "kernelspec": {
   "display_name": "base",
   "language": "python",
   "name": "python3"
  },
  "language_info": {
   "codemirror_mode": {
    "name": "ipython",
    "version": 3
   },
   "file_extension": ".py",
   "mimetype": "text/x-python",
   "name": "python",
   "nbconvert_exporter": "python",
   "pygments_lexer": "ipython3",
   "version": "3.9.12"
  },
  "orig_nbformat": 4
 },
 "nbformat": 4,
 "nbformat_minor": 2
}
